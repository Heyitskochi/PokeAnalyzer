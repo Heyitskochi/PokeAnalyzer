{
 "cells": [
  {
   "cell_type": "code",
   "execution_count": 1,
   "metadata": {},
   "outputs": [],
   "source": [
    "import pandas as pd\n",
    "import csv"
   ]
  },
  {
   "cell_type": "markdown",
   "metadata": {},
   "source": [
    "## Import Data\n"
   ]
  },
  {
   "cell_type": "code",
   "execution_count": 2,
   "metadata": {},
   "outputs": [
    {
     "data": {
      "text/html": [
       "<div>\n",
       "<style scoped>\n",
       "    .dataframe tbody tr th:only-of-type {\n",
       "        vertical-align: middle;\n",
       "    }\n",
       "\n",
       "    .dataframe tbody tr th {\n",
       "        vertical-align: top;\n",
       "    }\n",
       "\n",
       "    .dataframe thead th {\n",
       "        text-align: right;\n",
       "    }\n",
       "</style>\n",
       "<table border=\"1\" class=\"dataframe\">\n",
       "  <thead>\n",
       "    <tr style=\"text-align: right;\">\n",
       "      <th></th>\n",
       "      <th>#</th>\n",
       "      <th>Name</th>\n",
       "      <th>Type 1</th>\n",
       "      <th>Total</th>\n",
       "      <th>HP</th>\n",
       "      <th>Attack</th>\n",
       "      <th>Defense</th>\n",
       "      <th>Sp. Atk</th>\n",
       "      <th>Sp. Def</th>\n",
       "      <th>Speed</th>\n",
       "      <th>Generation</th>\n",
       "    </tr>\n",
       "  </thead>\n",
       "  <tbody>\n",
       "    <tr>\n",
       "      <th>0</th>\n",
       "      <td>1</td>\n",
       "      <td>Bulbasaur</td>\n",
       "      <td>Grass</td>\n",
       "      <td>318</td>\n",
       "      <td>45</td>\n",
       "      <td>49</td>\n",
       "      <td>49</td>\n",
       "      <td>65</td>\n",
       "      <td>65</td>\n",
       "      <td>45</td>\n",
       "      <td>1</td>\n",
       "    </tr>\n",
       "    <tr>\n",
       "      <th>1</th>\n",
       "      <td>2</td>\n",
       "      <td>Ivysaur</td>\n",
       "      <td>Grass</td>\n",
       "      <td>405</td>\n",
       "      <td>60</td>\n",
       "      <td>62</td>\n",
       "      <td>63</td>\n",
       "      <td>80</td>\n",
       "      <td>80</td>\n",
       "      <td>60</td>\n",
       "      <td>1</td>\n",
       "    </tr>\n",
       "    <tr>\n",
       "      <th>2</th>\n",
       "      <td>3</td>\n",
       "      <td>Venusaur</td>\n",
       "      <td>Grass</td>\n",
       "      <td>525</td>\n",
       "      <td>80</td>\n",
       "      <td>82</td>\n",
       "      <td>83</td>\n",
       "      <td>100</td>\n",
       "      <td>100</td>\n",
       "      <td>80</td>\n",
       "      <td>1</td>\n",
       "    </tr>\n",
       "    <tr>\n",
       "      <th>3</th>\n",
       "      <td>3</td>\n",
       "      <td>VenusaurMega Venusaur</td>\n",
       "      <td>Grass</td>\n",
       "      <td>625</td>\n",
       "      <td>80</td>\n",
       "      <td>100</td>\n",
       "      <td>123</td>\n",
       "      <td>122</td>\n",
       "      <td>120</td>\n",
       "      <td>80</td>\n",
       "      <td>1</td>\n",
       "    </tr>\n",
       "    <tr>\n",
       "      <th>4</th>\n",
       "      <td>4</td>\n",
       "      <td>Charmander</td>\n",
       "      <td>Fire</td>\n",
       "      <td>309</td>\n",
       "      <td>39</td>\n",
       "      <td>52</td>\n",
       "      <td>43</td>\n",
       "      <td>60</td>\n",
       "      <td>50</td>\n",
       "      <td>65</td>\n",
       "      <td>1</td>\n",
       "    </tr>\n",
       "    <tr>\n",
       "      <th>...</th>\n",
       "      <td>...</td>\n",
       "      <td>...</td>\n",
       "      <td>...</td>\n",
       "      <td>...</td>\n",
       "      <td>...</td>\n",
       "      <td>...</td>\n",
       "      <td>...</td>\n",
       "      <td>...</td>\n",
       "      <td>...</td>\n",
       "      <td>...</td>\n",
       "      <td>...</td>\n",
       "    </tr>\n",
       "    <tr>\n",
       "      <th>795</th>\n",
       "      <td>719</td>\n",
       "      <td>Diancie</td>\n",
       "      <td>Rock</td>\n",
       "      <td>600</td>\n",
       "      <td>50</td>\n",
       "      <td>100</td>\n",
       "      <td>150</td>\n",
       "      <td>100</td>\n",
       "      <td>150</td>\n",
       "      <td>50</td>\n",
       "      <td>6</td>\n",
       "    </tr>\n",
       "    <tr>\n",
       "      <th>796</th>\n",
       "      <td>719</td>\n",
       "      <td>DiancieMega Diancie</td>\n",
       "      <td>Rock</td>\n",
       "      <td>700</td>\n",
       "      <td>50</td>\n",
       "      <td>160</td>\n",
       "      <td>110</td>\n",
       "      <td>160</td>\n",
       "      <td>110</td>\n",
       "      <td>110</td>\n",
       "      <td>6</td>\n",
       "    </tr>\n",
       "    <tr>\n",
       "      <th>797</th>\n",
       "      <td>720</td>\n",
       "      <td>HoopaHoopa Confined</td>\n",
       "      <td>Psychic</td>\n",
       "      <td>600</td>\n",
       "      <td>80</td>\n",
       "      <td>110</td>\n",
       "      <td>60</td>\n",
       "      <td>150</td>\n",
       "      <td>130</td>\n",
       "      <td>70</td>\n",
       "      <td>6</td>\n",
       "    </tr>\n",
       "    <tr>\n",
       "      <th>798</th>\n",
       "      <td>720</td>\n",
       "      <td>HoopaHoopa Unbound</td>\n",
       "      <td>Psychic</td>\n",
       "      <td>680</td>\n",
       "      <td>80</td>\n",
       "      <td>160</td>\n",
       "      <td>60</td>\n",
       "      <td>170</td>\n",
       "      <td>130</td>\n",
       "      <td>80</td>\n",
       "      <td>6</td>\n",
       "    </tr>\n",
       "    <tr>\n",
       "      <th>799</th>\n",
       "      <td>721</td>\n",
       "      <td>Volcanion</td>\n",
       "      <td>Fire</td>\n",
       "      <td>600</td>\n",
       "      <td>80</td>\n",
       "      <td>110</td>\n",
       "      <td>120</td>\n",
       "      <td>130</td>\n",
       "      <td>90</td>\n",
       "      <td>70</td>\n",
       "      <td>6</td>\n",
       "    </tr>\n",
       "  </tbody>\n",
       "</table>\n",
       "<p>800 rows × 11 columns</p>\n",
       "</div>"
      ],
      "text/plain": [
       "       #                   Name   Type 1  Total  HP  Attack  Defense  Sp. Atk  \\\n",
       "0      1              Bulbasaur    Grass    318  45      49       49       65   \n",
       "1      2                Ivysaur    Grass    405  60      62       63       80   \n",
       "2      3               Venusaur    Grass    525  80      82       83      100   \n",
       "3      3  VenusaurMega Venusaur    Grass    625  80     100      123      122   \n",
       "4      4             Charmander     Fire    309  39      52       43       60   \n",
       "..   ...                    ...      ...    ...  ..     ...      ...      ...   \n",
       "795  719                Diancie     Rock    600  50     100      150      100   \n",
       "796  719    DiancieMega Diancie     Rock    700  50     160      110      160   \n",
       "797  720    HoopaHoopa Confined  Psychic    600  80     110       60      150   \n",
       "798  720     HoopaHoopa Unbound  Psychic    680  80     160       60      170   \n",
       "799  721              Volcanion     Fire    600  80     110      120      130   \n",
       "\n",
       "     Sp. Def  Speed  Generation  \n",
       "0         65     45           1  \n",
       "1         80     60           1  \n",
       "2        100     80           1  \n",
       "3        120     80           1  \n",
       "4         50     65           1  \n",
       "..       ...    ...         ...  \n",
       "795      150     50           6  \n",
       "796      110    110           6  \n",
       "797      130     70           6  \n",
       "798      130     80           6  \n",
       "799       90     70           6  \n",
       "\n",
       "[800 rows x 11 columns]"
      ]
     },
     "execution_count": 2,
     "metadata": {},
     "output_type": "execute_result"
    }
   ],
   "source": [
    "file_to_load = \"Resources/Pokemon_main_values.csv\"\n",
    "chart_to_load = \"resources/chart.csv\"\n",
    "Pokemon_chart = pd.read_csv(chart_to_load)\n",
    "Pokemon_data = pd.read_csv(file_to_load)\n",
    "Pokemon_data\n",
    "#Pokemon_chart"
   ]
  },
  {
   "cell_type": "markdown",
   "metadata": {},
   "source": [
    "## Clean Data"
   ]
  },
  {
   "cell_type": "code",
   "execution_count": null,
   "metadata": {
    "scrolled": true
   },
   "outputs": [],
   "source": []
  },
  {
   "cell_type": "markdown",
   "metadata": {},
   "source": [
    "## Random Pokemon Generator"
   ]
  },
  {
   "cell_type": "code",
   "execution_count": null,
   "metadata": {},
   "outputs": [],
   "source": []
  },
  {
   "cell_type": "markdown",
   "metadata": {},
   "source": [
    "## Number of Resistances and Effectivenesses by Type "
   ]
  },
  {
   "cell_type": "code",
   "execution_count": null,
   "metadata": {},
   "outputs": [],
   "source": []
  },
  {
   "cell_type": "markdown",
   "metadata": {},
   "source": [
    "## Pokemon Ranking"
   ]
  },
  {
   "cell_type": "code",
   "execution_count": null,
   "metadata": {},
   "outputs": [],
   "source": []
  },
  {
   "cell_type": "markdown",
   "metadata": {},
   "source": [
    "## Attack vs Defense Correlation by Type"
   ]
  },
  {
   "cell_type": "code",
   "execution_count": 3,
   "metadata": {},
   "outputs": [],
   "source": [
    "import pandas as pd\n",
    "import numpy as np\n",
    "import matplotlib.pyplot as plt\n",
    "import scipy.stats as st\n",
    "from scipy.stats import linregress"
   ]
  },
  {
   "cell_type": "code",
   "execution_count": 4,
   "metadata": {},
   "outputs": [
    {
     "name": "stdout",
     "output_type": "stream",
     "text": [
      "The r-squared is : 0.540743657060925\n"
     ]
    },
    {
     "data": {
      "image/png": "[encoded data removed]",
      "text/plain": [
       "<Figure size 432x288 with 1 Axes>"
      ]
     },
     "metadata": {
      "needs_background": "light"
     },
     "output_type": "display_data"
    },
    {
     "name": "stdout",
     "output_type": "stream",
     "text": [
      "The r-squared is : 0.3646922464208143\n"
     ]
    },
    {
     "data": {
      "image/png": "[encoded data removed]",
      "text/plain": [
       "<Figure size 432x288 with 1 Axes>"
      ]
     },
     "metadata": {
      "needs_background": "light"
     },
     "output_type": "display_data"
    },
    {
     "name": "stdout",
     "output_type": "stream",
     "text": [
      "The r-squared is : 0.5161628601933549\n"
     ]
    },
    {
     "data": {
      "image/png": "[encoded data removed]",
      "text/plain": [
       "<Figure size 432x288 with 1 Axes>"
      ]
     },
     "metadata": {
      "needs_background": "light"
     },
     "output_type": "display_data"
    },
    {
     "name": "stdout",
     "output_type": "stream",
     "text": [
      "The r-squared is : 0.36162150204987326\n"
     ]
    },
    {
     "data": {
      "image/png": "[encoded data removed]",
      "text/plain": [
       "<Figure size 432x288 with 1 Axes>"
      ]
     },
     "metadata": {
      "needs_background": "light"
     },
     "output_type": "display_data"
    },
    {
     "name": "stdout",
     "output_type": "stream",
     "text": [
      "The r-squared is : 0.7385103231619194\n"
     ]
    },
    {
     "data": {
      "image/png": "[encoded data removed]",
      "text/plain": [
       "<Figure size 432x288 with 1 Axes>"
      ]
     },
     "metadata": {
      "needs_background": "light"
     },
     "output_type": "display_data"
    },
    {
     "name": "stdout",
     "output_type": "stream",
     "text": [
      "The r-squared is : 0.4625410313806518\n"
     ]
    },
    {
     "data": {
      "image/png": "[encoded data removed]",
      "text/plain": [
       "<Figure size 432x288 with 1 Axes>"
      ]
     },
     "metadata": {
      "needs_background": "light"
     },
     "output_type": "display_data"
    },
    {
     "name": "stdout",
     "output_type": "stream",
     "text": [
      "The r-squared is : 0.33341569831842616\n"
     ]
    },
    {
     "data": {
      "image/png": "[encoded data removed]",
      "text/plain": [
       "<Figure size 432x288 with 1 Axes>"
      ]
     },
     "metadata": {
      "needs_background": "light"
     },
     "output_type": "display_data"
    },
    {
     "name": "stdout",
     "output_type": "stream",
     "text": [
      "The r-squared is : 0.5972335985090407\n"
     ]
    },
    {
     "data": {
      "image/png": "[encoded data removed]",
      "text/plain": [
       "<Figure size 432x288 with 1 Axes>"
      ]
     },
     "metadata": {
      "needs_background": "light"
     },
     "output_type": "display_data"
    },
    {
     "name": "stdout",
     "output_type": "stream",
     "text": [
      "The r-squared is : 0.523612960905597\n"
     ]
    },
    {
     "data": {
      "image/png": "[encoded data removed]",
      "text/plain": [
       "<Figure size 432x288 with 1 Axes>"
      ]
     },
     "metadata": {
      "needs_background": "light"
     },
     "output_type": "display_data"
    },
    {
     "name": "stdout",
     "output_type": "stream",
     "text": [
      "The r-squared is : 0.6225040313285795\n"
     ]
    },
    {
     "data": {
      "image/png": "[encoded data removed]",
      "text/plain": [
       "<Figure size 432x288 with 1 Axes>"
      ]
     },
     "metadata": {
      "needs_background": "light"
     },
     "output_type": "display_data"
    },
    {
     "name": "stdout",
     "output_type": "stream",
     "text": [
      "The r-squared is : 0.33693079701846346\n"
     ]
    },
    {
     "data": {
      "image/png": "[encoded data removed]",
      "text/plain": [
       "<Figure size 432x288 with 1 Axes>"
      ]
     },
     "metadata": {
      "needs_background": "light"
     },
     "output_type": "display_data"
    },
    {
     "name": "stdout",
     "output_type": "stream",
     "text": [
      "The r-squared is : -0.08795074385851195\n"
     ]
    },
    {
     "data": {
      "image/png": "[encoded data removed]",
      "text/plain": [
       "<Figure size 432x288 with 1 Axes>"
      ]
     },
     "metadata": {
      "needs_background": "light"
     },
     "output_type": "display_data"
    },
    {
     "name": "stdout",
     "output_type": "stream",
     "text": [
      "The r-squared is : 0.33069172109805284\n"
     ]
    },
    {
     "data": {
      "image/png": "[encoded data removed]",
      "text/plain": [
       "<Figure size 432x288 with 1 Axes>"
      ]
     },
     "metadata": {
      "needs_background": "light"
     },
     "output_type": "display_data"
    },
    {
     "name": "stdout",
     "output_type": "stream",
     "text": [
      "The r-squared is : 0.6150229920595142\n"
     ]
    },
    {
     "data": {
      "image/png": "[encoded data removed]",
      "text/plain": [
       "<Figure size 432x288 with 1 Axes>"
      ]
     },
     "metadata": {
      "needs_background": "light"
     },
     "output_type": "display_data"
    },
    {
     "name": "stdout",
     "output_type": "stream",
     "text": [
      "The r-squared is : 0.6652140439722745\n"
     ]
    },
    {
     "data": {
      "image/png": "[encoded data removed]",
      "text/plain": [
       "<Figure size 432x288 with 1 Axes>"
      ]
     },
     "metadata": {
      "needs_background": "light"
     },
     "output_type": "display_data"
    },
    {
     "name": "stdout",
     "output_type": "stream",
     "text": [
      "The r-squared is : 0.19584500776797656\n"
     ]
    },
    {
     "data": {
      "image/png": "[encoded data removed]",
      "text/plain": [
       "<Figure size 432x288 with 1 Axes>"
      ]
     },
     "metadata": {
      "needs_background": "light"
     },
     "output_type": "display_data"
    },
    {
     "name": "stdout",
     "output_type": "stream",
     "text": [
      "The r-squared is : 0.37210249005978413\n"
     ]
    },
    {
     "data": {
      "image/png": "[encoded data removed]",
      "text/plain": [
       "<Figure size 432x288 with 1 Axes>"
      ]
     },
     "metadata": {
      "needs_background": "light"
     },
     "output_type": "display_data"
    },
    {
     "name": "stdout",
     "output_type": "stream",
     "text": [
      "The r-squared is : 0.7620679139659167\n"
     ]
    },
    {
     "data": {
      "image/png": "[encoded data removed]",
      "text/plain": [
       "<Figure size 432x288 with 1 Axes>"
      ]
     },
     "metadata": {
      "needs_background": "light"
     },
     "output_type": "display_data"
    }
   ],
   "source": [
    "poke_list = list(Pokemon_data['Type 1'].unique())\n",
    "\n",
    "rvalue_list = []\n",
    "\n",
    "for i in poke_list:\n",
    "    poke_df = Pokemon_data.loc[Pokemon_data['Type 1'] == i]\n",
    "    \n",
    "    x = poke_df['Attack']\n",
    "    y = poke_df['Defense']\n",
    "    (slope, intercept, rvalue, pvalue, stderr) = linregress(x,y)\n",
    "    print(f'The r-squared is : {rvalue}')\n",
    "    regress_value = x * slope + intercept\n",
    "    rvalue_list.append(rvalue)\n",
    "    \n",
    "    plt.scatter(x,y)\n",
    "    plt.plot(x,regress_value,\"r-\")\n",
    "    \n",
    "    plt.title(i)\n",
    "    plt.xlabel('Attack')\n",
    "    plt.ylabel('Defense')\n",
    "    plt.show()"
   ]
  },
  {
   "cell_type": "code",
   "execution_count": 5,
   "metadata": {},
   "outputs": [
    {
     "data": {
      "text/html": [
       "<div>\n",
       "<style scoped>\n",
       "    .dataframe tbody tr th:only-of-type {\n",
       "        vertical-align: middle;\n",
       "    }\n",
       "\n",
       "    .dataframe tbody tr th {\n",
       "        vertical-align: top;\n",
       "    }\n",
       "\n",
       "    .dataframe thead th {\n",
       "        text-align: right;\n",
       "    }\n",
       "</style>\n",
       "<table border=\"1\" class=\"dataframe\">\n",
       "  <thead>\n",
       "    <tr style=\"text-align: right;\">\n",
       "      <th></th>\n",
       "      <th>Type</th>\n",
       "      <th>R-value</th>\n",
       "    </tr>\n",
       "  </thead>\n",
       "  <tbody>\n",
       "    <tr>\n",
       "      <th>0</th>\n",
       "      <td>Grass</td>\n",
       "      <td>0.540744</td>\n",
       "    </tr>\n",
       "    <tr>\n",
       "      <th>1</th>\n",
       "      <td>Fire</td>\n",
       "      <td>0.364692</td>\n",
       "    </tr>\n",
       "    <tr>\n",
       "      <th>2</th>\n",
       "      <td>Water</td>\n",
       "      <td>0.516163</td>\n",
       "    </tr>\n",
       "    <tr>\n",
       "      <th>3</th>\n",
       "      <td>Bug</td>\n",
       "      <td>0.361622</td>\n",
       "    </tr>\n",
       "    <tr>\n",
       "      <th>4</th>\n",
       "      <td>Normal</td>\n",
       "      <td>0.738510</td>\n",
       "    </tr>\n",
       "    <tr>\n",
       "      <th>5</th>\n",
       "      <td>Poison</td>\n",
       "      <td>0.462541</td>\n",
       "    </tr>\n",
       "    <tr>\n",
       "      <th>6</th>\n",
       "      <td>Electric</td>\n",
       "      <td>0.333416</td>\n",
       "    </tr>\n",
       "    <tr>\n",
       "      <th>7</th>\n",
       "      <td>Ground</td>\n",
       "      <td>0.597234</td>\n",
       "    </tr>\n",
       "    <tr>\n",
       "      <th>8</th>\n",
       "      <td>Fairy</td>\n",
       "      <td>0.523613</td>\n",
       "    </tr>\n",
       "    <tr>\n",
       "      <th>9</th>\n",
       "      <td>Fighting</td>\n",
       "      <td>0.622504</td>\n",
       "    </tr>\n",
       "    <tr>\n",
       "      <th>10</th>\n",
       "      <td>Psychic</td>\n",
       "      <td>0.336931</td>\n",
       "    </tr>\n",
       "    <tr>\n",
       "      <th>11</th>\n",
       "      <td>Rock</td>\n",
       "      <td>-0.087951</td>\n",
       "    </tr>\n",
       "    <tr>\n",
       "      <th>12</th>\n",
       "      <td>Ghost</td>\n",
       "      <td>0.330692</td>\n",
       "    </tr>\n",
       "    <tr>\n",
       "      <th>13</th>\n",
       "      <td>Ice</td>\n",
       "      <td>0.615023</td>\n",
       "    </tr>\n",
       "    <tr>\n",
       "      <th>14</th>\n",
       "      <td>Dragon</td>\n",
       "      <td>0.665214</td>\n",
       "    </tr>\n",
       "    <tr>\n",
       "      <th>15</th>\n",
       "      <td>Dark</td>\n",
       "      <td>0.195845</td>\n",
       "    </tr>\n",
       "    <tr>\n",
       "      <th>16</th>\n",
       "      <td>Steel</td>\n",
       "      <td>0.372102</td>\n",
       "    </tr>\n",
       "    <tr>\n",
       "      <th>17</th>\n",
       "      <td>Flying</td>\n",
       "      <td>0.762068</td>\n",
       "    </tr>\n",
       "  </tbody>\n",
       "</table>\n",
       "</div>"
      ],
      "text/plain": [
       "        Type   R-value\n",
       "0      Grass  0.540744\n",
       "1       Fire  0.364692\n",
       "2      Water  0.516163\n",
       "3        Bug  0.361622\n",
       "4     Normal  0.738510\n",
       "5     Poison  0.462541\n",
       "6   Electric  0.333416\n",
       "7     Ground  0.597234\n",
       "8      Fairy  0.523613\n",
       "9   Fighting  0.622504\n",
       "10   Psychic  0.336931\n",
       "11      Rock -0.087951\n",
       "12     Ghost  0.330692\n",
       "13       Ice  0.615023\n",
       "14    Dragon  0.665214\n",
       "15      Dark  0.195845\n",
       "16     Steel  0.372102\n",
       "17    Flying  0.762068"
      ]
     },
     "execution_count": 5,
     "metadata": {},
     "output_type": "execute_result"
    }
   ],
   "source": [
    "#store all the r value in a data table for each type\n",
    "rvalue_table = pd.DataFrame({'Type':poke_list,\n",
    "                             'R-value':rvalue_list})\n",
    "rvalue_table"
   ]
  },
  {
   "cell_type": "markdown",
   "metadata": {},
   "source": [
    "## Statistical Analysis of Attack vs Defense  by Type"
   ]
  },
  {
   "cell_type": "code",
   "execution_count": 6,
   "metadata": {},
   "outputs": [
    {
     "name": "stdout",
     "output_type": "stream",
     "text": [
      "----------Grass--------------\n",
      "Attack\n",
      "Median: 70.0\n",
      "Lower quartile: 55.0\n",
      "Upper quartile:93.5\n",
      "Interquartile: 38.5\n",
      "Values above 151.25 could be outliers\n",
      "Values below -2.75 could be outliers\n",
      "Defense\n",
      "Median: 66.0\n",
      "Lower quartile: 50.0\n",
      "Upper quartile: 84.5\n",
      "Interquartile: 34.5\n",
      "Values above 136.25 could be outliers\n",
      "Values below -1.75 could be outliers\n",
      "----------Fire--------------\n",
      "Attack\n",
      "Median: 84.5\n",
      "Lower quartile: 62.25\n",
      "Upper quartile:101.0\n",
      "Interquartile: 38.75\n",
      "Values above 159.125 could be outliers\n",
      "Values below 4.125 could be outliers\n",
      "Defense\n",
      "Median: 64.0\n",
      "Lower quartile: 51.0\n",
      "Upper quartile: 78.0\n",
      "Interquartile: 27.0\n",
      "Values above 118.5 could be outliers\n",
      "Values below 10.5 could be outliers\n",
      "----------Water--------------\n",
      "Attack\n",
      "Median: 72.0\n",
      "Lower quartile: 53.0\n",
      "Upper quartile:92.0\n",
      "Interquartile: 39.0\n",
      "Values above 150.5 could be outliers\n",
      "Values below -5.5 could be outliers\n",
      "Defense\n",
      "Median: 70.0\n",
      "Lower quartile: 54.5\n",
      "Upper quartile: 88.5\n",
      "Interquartile: 34.0\n",
      "Values above 139.5 could be outliers\n",
      "Values below 3.5 could be outliers\n",
      "----------Bug--------------\n",
      "Attack\n",
      "Median: 65.0\n",
      "Lower quartile: 45.0\n",
      "Upper quartile:90.0\n",
      "Interquartile: 45.0\n",
      "Values above 157.5 could be outliers\n",
      "Values below -22.5 could be outliers\n",
      "Defense\n",
      "Median: 60.0\n",
      "Lower quartile: 50.0\n",
      "Upper quartile: 90.0\n",
      "Interquartile: 40.0\n",
      "Values above 150.0 could be outliers\n",
      "Values below -10.0 could be outliers\n",
      "----------Normal--------------\n",
      "Attack\n",
      "Median: 70.5\n",
      "Lower quartile: 55.0\n",
      "Upper quartile:85.0\n",
      "Interquartile: 30.0\n",
      "Values above 130.0 could be outliers\n",
      "Values below 10.0 could be outliers\n",
      "Defense\n",
      "Median: 60.0\n",
      "Lower quartile: 43.25\n",
      "Upper quartile: 73.75\n",
      "Interquartile: 30.5\n",
      "Values above 119.5 could be outliers\n",
      "Values below -2.5 could be outliers\n",
      "----------Poison--------------\n",
      "Attack\n",
      "Median: 74.0\n",
      "Lower quartile: 60.0\n",
      "Upper quartile:90.5\n",
      "Interquartile: 30.5\n",
      "Values above 136.25 could be outliers\n",
      "Values below 14.25 could be outliers\n",
      "Defense\n",
      "Median: 67.0\n",
      "Lower quartile: 52.75\n",
      "Upper quartile: 82.25\n",
      "Interquartile: 29.5\n",
      "Values above 126.5 could be outliers\n",
      "Values below 8.5 could be outliers\n",
      "----------Electric--------------\n",
      "Attack\n",
      "Median: 65.0\n",
      "Lower quartile: 53.75\n",
      "Upper quartile:85.0\n",
      "Interquartile: 31.25\n",
      "Values above 131.875 could be outliers\n",
      "Values below 6.875 could be outliers\n",
      "Defense\n",
      "Median: 65.0\n",
      "Lower quartile: 49.75\n",
      "Upper quartile: 80.0\n",
      "Interquartile: 30.25\n",
      "Values above 125.375 could be outliers\n",
      "Values below 4.375 could be outliers\n",
      "----------Ground--------------\n",
      "Attack\n",
      "Median: 85.0\n",
      "Lower quartile: 72.0\n",
      "Upper quartile:121.0\n",
      "Interquartile: 49.0\n",
      "Values above 194.5 could be outliers\n",
      "Values below -1.5 could be outliers\n",
      "Defense\n",
      "Median: 84.5\n",
      "Lower quartile: 53.75\n",
      "Upper quartile: 110.0\n",
      "Interquartile: 56.25\n",
      "Values above 194.375 could be outliers\n",
      "Values below -30.625 could be outliers\n",
      "----------Fairy--------------\n",
      "Attack\n",
      "Median: 52.0\n",
      "Lower quartile: 45.0\n",
      "Upper quartile:72.0\n",
      "Interquartile: 27.0\n",
      "Values above 112.5 could be outliers\n",
      "Values below 4.5 could be outliers\n",
      "Defense\n",
      "Median: 66.0\n",
      "Lower quartile: 50.0\n",
      "Upper quartile: 75.0\n",
      "Interquartile: 25.0\n",
      "Values above 112.5 could be outliers\n",
      "Values below 12.5 could be outliers\n",
      "----------Fighting--------------\n",
      "Attack\n",
      "Median: 100.0\n",
      "Lower quartile: 80.0\n",
      "Upper quartile:120.0\n",
      "Interquartile: 40.0\n",
      "Values above 180.0 could be outliers\n",
      "Values below 20.0 could be outliers\n",
      "Defense\n",
      "Median: 70.0\n",
      "Lower quartile: 54.0\n",
      "Upper quartile: 79.5\n",
      "Interquartile: 25.5\n",
      "Values above 117.75 could be outliers\n",
      "Values below 15.75 could be outliers\n",
      "----------Psychic--------------\n",
      "Attack\n",
      "Median: 57.0\n",
      "Lower quartile: 45.0\n",
      "Upper quartile:95.0\n",
      "Interquartile: 50.0\n",
      "Values above 170.0 could be outliers\n",
      "Values below -30.0 could be outliers\n",
      "Defense\n",
      "Median: 65.0\n",
      "Lower quartile: 48.0\n",
      "Upper quartile: 80.0\n",
      "Interquartile: 32.0\n",
      "Values above 128.0 could be outliers\n",
      "Values below 0.0 could be outliers\n",
      "----------Rock--------------\n",
      "Attack\n",
      "Median: 95.0\n",
      "Lower quartile: 59.75\n",
      "Upper quartile:120.25\n",
      "Interquartile: 60.5\n",
      "Values above 211.0 could be outliers\n",
      "Values below -31.0 could be outliers\n",
      "Defense\n",
      "Median: 100.0\n",
      "Lower quartile: 71.5\n",
      "Upper quartile: 120.5\n",
      "Interquartile: 49.0\n",
      "Values above 194.0 could be outliers\n",
      "Values below -2.0 could be outliers\n",
      "----------Ghost--------------\n",
      "Attack\n",
      "Median: 66.0\n",
      "Lower quartile: 53.75\n",
      "Upper quartile:92.75\n",
      "Interquartile: 39.0\n",
      "Values above 151.25 could be outliers\n",
      "Values below -4.75 could be outliers\n",
      "Defense\n",
      "Median: 72.5\n",
      "Lower quartile: 60.0\n",
      "Upper quartile: 111.0\n",
      "Interquartile: 51.0\n",
      "Values above 187.5 could be outliers\n",
      "Values below -16.5 could be outliers\n",
      "----------Ice--------------\n",
      "Attack\n",
      "Median: 67.0\n",
      "Lower quartile: 50.0\n",
      "Upper quartile:87.5\n",
      "Interquartile: 37.5\n",
      "Values above 143.75 could be outliers\n",
      "Values below -6.25 could be outliers\n",
      "Defense\n",
      "Median: 75.0\n",
      "Lower quartile: 48.75\n",
      "Upper quartile: 85.0\n",
      "Interquartile: 36.25\n",
      "Values above 139.375 could be outliers\n",
      "Values below -5.625 could be outliers\n",
      "----------Dragon--------------\n",
      "Attack\n",
      "Median: 113.5\n",
      "Lower quartile: 86.25\n",
      "Upper quartile:134.25\n",
      "Interquartile: 48.0\n",
      "Values above 206.25 could be outliers\n",
      "Values below 14.25 could be outliers\n",
      "Defense\n",
      "Median: 90.0\n",
      "Lower quartile: 68.75\n",
      "Upper quartile: 100.0\n",
      "Interquartile: 31.25\n",
      "Values above 146.875 could be outliers\n",
      "Values below 21.875 could be outliers\n",
      "----------Dark--------------\n",
      "Attack\n",
      "Median: 88.0\n",
      "Lower quartile: 65.0\n",
      "Upper quartile:100.0\n",
      "Interquartile: 35.0\n",
      "Values above 152.5 could be outliers\n",
      "Values below 12.5 could be outliers\n",
      "Defense\n",
      "Median: 70.0\n",
      "Lower quartile: 51.0\n",
      "Upper quartile: 90.0\n",
      "Interquartile: 39.0\n",
      "Values above 148.5 could be outliers\n",
      "Values below -7.5 could be outliers\n",
      "----------Steel--------------\n",
      "Attack\n",
      "Median: 89.0\n",
      "Lower quartile: 77.5\n",
      "Upper quartile:110.0\n",
      "Interquartile: 32.5\n",
      "Values above 158.75 could be outliers\n",
      "Values below 28.75 could be outliers\n",
      "Defense\n",
      "Median: 120.0\n",
      "Lower quartile: 97.5\n",
      "Upper quartile: 150.0\n",
      "Interquartile: 52.5\n",
      "Values above 228.75 could be outliers\n",
      "Values below 18.75 could be outliers\n",
      "----------Flying--------------\n",
      "Attack\n",
      "Median: 85.0\n",
      "Lower quartile: 60.0\n",
      "Upper quartile:103.75\n",
      "Interquartile: 43.75\n",
      "Values above 169.375 could be outliers\n",
      "Values below -5.625 could be outliers\n",
      "Defense\n",
      "Median: 75.0\n",
      "Lower quartile: 61.25\n",
      "Upper quartile: 80.0\n",
      "Interquartile: 18.75\n",
      "Values above 108.125 could be outliers\n",
      "Values below 33.125 could be outliers\n"
     ]
    }
   ],
   "source": [
    "attack_median = []\n",
    "attack_lq = []\n",
    "attack_uq = []\n",
    "attack_iqr = []\n",
    "attack_lb = []\n",
    "attack_ub = []\n",
    "\n",
    "defense_median = []\n",
    "defense_lq = []\n",
    "defense_uq = []\n",
    "defense_iqr = []\n",
    "defense_lb = []\n",
    "defense_ub = []\n",
    "\n",
    "for i in poke_list:\n",
    "    poke_df = Pokemon_data.loc[Pokemon_data['Type 1'] == i]\n",
    "    \n",
    "    quartiles_a = poke_df[\"Attack\"].quantile([.25,.5,.75])\n",
    "    lowerq_a = quartiles_a[0.25]\n",
    "    upperq_a = quartiles_a[0.75]\n",
    "    iqr_a = upperq_a-lowerq_a\n",
    "    lower_bound_a = lowerq_a - (1.5*iqr_a)\n",
    "    upper_bound_a = upperq_a + (1.5*iqr_a)\n",
    "        \n",
    "    quartiles_d = poke_df[\"Defense\"].quantile([.25,.5,.75])\n",
    "    lowerq_d = quartiles_d[0.25]\n",
    "    upperq_d = quartiles_d[0.75]\n",
    "    iqr_d = upperq_d-lowerq_d\n",
    "    lower_bound_d = lowerq_d - (1.5*iqr_d)\n",
    "    upper_bound_d = upperq_d + (1.5*iqr_d)\n",
    "    \n",
    "    attack_median.append(quartiles_a[0.5])\n",
    "    attack_lq.append(lowerq_a)\n",
    "    attack_uq.append(upperq_a)\n",
    "    attack_iqr.append(iqr_a)\n",
    "    attack_lb.append(lower_bound_a)\n",
    "    attack_ub.append(upper_bound_a)\n",
    "    defense_median.append(quartiles_d[0.5])\n",
    "    defense_lq.append(lowerq_d)\n",
    "    defense_uq.append(upperq_d)\n",
    "    defense_iqr.append(iqr_d)\n",
    "    defense_lb.append(lower_bound_d)\n",
    "    defense_ub.append(upper_bound_d)\n",
    "    \n",
    "    print(f\"----------{i}--------------\")\n",
    "    print(\"Attack\")\n",
    "    print(f\"Median: {quartiles_a[.5]}\")\n",
    "    print(f\"Lower quartile: {lowerq_a}\")\n",
    "    print(f\"Upper quartile:{upperq_a}\")\n",
    "    print(f\"Interquartile: {iqr_a}\")\n",
    "    print(f\"Values above {upper_bound_a} could be outliers\")\n",
    "    print(f\"Values below {lower_bound_a} could be outliers\")\n",
    "    print(\"Defense\")\n",
    "    print(f\"Median: {quartiles_d[.5]}\")\n",
    "    print(f\"Lower quartile: {lowerq_d}\")\n",
    "    print(f\"Upper quartile: {upperq_d}\")\n",
    "    print(f\"Interquartile: {iqr_d}\")\n",
    "    print(f\"Values above {upper_bound_d} could be outliers\")\n",
    "    print(f\"Values below {lower_bound_d} could be outliers\")\n",
    "   "
   ]
  },
  {
   "cell_type": "code",
   "execution_count": 7,
   "metadata": {},
   "outputs": [
    {
     "data": {
      "text/html": [
       "<div>\n",
       "<style scoped>\n",
       "    .dataframe tbody tr th:only-of-type {\n",
       "        vertical-align: middle;\n",
       "    }\n",
       "\n",
       "    .dataframe tbody tr th {\n",
       "        vertical-align: top;\n",
       "    }\n",
       "\n",
       "    .dataframe thead th {\n",
       "        text-align: right;\n",
       "    }\n",
       "</style>\n",
       "<table border=\"1\" class=\"dataframe\">\n",
       "  <thead>\n",
       "    <tr style=\"text-align: right;\">\n",
       "      <th></th>\n",
       "      <th>Type</th>\n",
       "      <th>Attack Median</th>\n",
       "      <th>Lower quartile</th>\n",
       "      <th>Upper quartile</th>\n",
       "      <th>Iqr</th>\n",
       "      <th>Lower bound</th>\n",
       "      <th>Upper bound</th>\n",
       "      <th>Defense Median</th>\n",
       "      <th>Loewr quartile</th>\n",
       "    </tr>\n",
       "  </thead>\n",
       "  <tbody>\n",
       "    <tr>\n",
       "      <th>0</th>\n",
       "      <td>Grass</td>\n",
       "      <td>70.0</td>\n",
       "      <td>55.00</td>\n",
       "      <td>84.50</td>\n",
       "      <td>34.50</td>\n",
       "      <td>-1.750</td>\n",
       "      <td>136.250</td>\n",
       "      <td>66.0</td>\n",
       "      <td>50.00</td>\n",
       "    </tr>\n",
       "    <tr>\n",
       "      <th>1</th>\n",
       "      <td>Fire</td>\n",
       "      <td>84.5</td>\n",
       "      <td>62.25</td>\n",
       "      <td>78.00</td>\n",
       "      <td>27.00</td>\n",
       "      <td>10.500</td>\n",
       "      <td>118.500</td>\n",
       "      <td>64.0</td>\n",
       "      <td>51.00</td>\n",
       "    </tr>\n",
       "    <tr>\n",
       "      <th>2</th>\n",
       "      <td>Water</td>\n",
       "      <td>72.0</td>\n",
       "      <td>53.00</td>\n",
       "      <td>88.50</td>\n",
       "      <td>34.00</td>\n",
       "      <td>3.500</td>\n",
       "      <td>139.500</td>\n",
       "      <td>70.0</td>\n",
       "      <td>54.50</td>\n",
       "    </tr>\n",
       "    <tr>\n",
       "      <th>3</th>\n",
       "      <td>Bug</td>\n",
       "      <td>65.0</td>\n",
       "      <td>45.00</td>\n",
       "      <td>90.00</td>\n",
       "      <td>40.00</td>\n",
       "      <td>-10.000</td>\n",
       "      <td>150.000</td>\n",
       "      <td>60.0</td>\n",
       "      <td>50.00</td>\n",
       "    </tr>\n",
       "    <tr>\n",
       "      <th>4</th>\n",
       "      <td>Normal</td>\n",
       "      <td>70.5</td>\n",
       "      <td>55.00</td>\n",
       "      <td>73.75</td>\n",
       "      <td>30.50</td>\n",
       "      <td>-2.500</td>\n",
       "      <td>119.500</td>\n",
       "      <td>60.0</td>\n",
       "      <td>43.25</td>\n",
       "    </tr>\n",
       "    <tr>\n",
       "      <th>5</th>\n",
       "      <td>Poison</td>\n",
       "      <td>74.0</td>\n",
       "      <td>60.00</td>\n",
       "      <td>82.25</td>\n",
       "      <td>29.50</td>\n",
       "      <td>8.500</td>\n",
       "      <td>126.500</td>\n",
       "      <td>67.0</td>\n",
       "      <td>52.75</td>\n",
       "    </tr>\n",
       "    <tr>\n",
       "      <th>6</th>\n",
       "      <td>Electric</td>\n",
       "      <td>65.0</td>\n",
       "      <td>53.75</td>\n",
       "      <td>80.00</td>\n",
       "      <td>30.25</td>\n",
       "      <td>4.375</td>\n",
       "      <td>125.375</td>\n",
       "      <td>65.0</td>\n",
       "      <td>49.75</td>\n",
       "    </tr>\n",
       "    <tr>\n",
       "      <th>7</th>\n",
       "      <td>Ground</td>\n",
       "      <td>85.0</td>\n",
       "      <td>72.00</td>\n",
       "      <td>110.00</td>\n",
       "      <td>56.25</td>\n",
       "      <td>-30.625</td>\n",
       "      <td>194.375</td>\n",
       "      <td>84.5</td>\n",
       "      <td>53.75</td>\n",
       "    </tr>\n",
       "    <tr>\n",
       "      <th>8</th>\n",
       "      <td>Fairy</td>\n",
       "      <td>52.0</td>\n",
       "      <td>45.00</td>\n",
       "      <td>75.00</td>\n",
       "      <td>25.00</td>\n",
       "      <td>12.500</td>\n",
       "      <td>112.500</td>\n",
       "      <td>66.0</td>\n",
       "      <td>50.00</td>\n",
       "    </tr>\n",
       "    <tr>\n",
       "      <th>9</th>\n",
       "      <td>Fighting</td>\n",
       "      <td>100.0</td>\n",
       "      <td>80.00</td>\n",
       "      <td>79.50</td>\n",
       "      <td>25.50</td>\n",
       "      <td>15.750</td>\n",
       "      <td>117.750</td>\n",
       "      <td>70.0</td>\n",
       "      <td>54.00</td>\n",
       "    </tr>\n",
       "    <tr>\n",
       "      <th>10</th>\n",
       "      <td>Psychic</td>\n",
       "      <td>57.0</td>\n",
       "      <td>45.00</td>\n",
       "      <td>80.00</td>\n",
       "      <td>32.00</td>\n",
       "      <td>0.000</td>\n",
       "      <td>128.000</td>\n",
       "      <td>65.0</td>\n",
       "      <td>48.00</td>\n",
       "    </tr>\n",
       "    <tr>\n",
       "      <th>11</th>\n",
       "      <td>Rock</td>\n",
       "      <td>95.0</td>\n",
       "      <td>59.75</td>\n",
       "      <td>120.50</td>\n",
       "      <td>49.00</td>\n",
       "      <td>-2.000</td>\n",
       "      <td>194.000</td>\n",
       "      <td>100.0</td>\n",
       "      <td>71.50</td>\n",
       "    </tr>\n",
       "    <tr>\n",
       "      <th>12</th>\n",
       "      <td>Ghost</td>\n",
       "      <td>66.0</td>\n",
       "      <td>53.75</td>\n",
       "      <td>111.00</td>\n",
       "      <td>51.00</td>\n",
       "      <td>-16.500</td>\n",
       "      <td>187.500</td>\n",
       "      <td>72.5</td>\n",
       "      <td>60.00</td>\n",
       "    </tr>\n",
       "    <tr>\n",
       "      <th>13</th>\n",
       "      <td>Ice</td>\n",
       "      <td>67.0</td>\n",
       "      <td>50.00</td>\n",
       "      <td>85.00</td>\n",
       "      <td>36.25</td>\n",
       "      <td>-5.625</td>\n",
       "      <td>139.375</td>\n",
       "      <td>75.0</td>\n",
       "      <td>48.75</td>\n",
       "    </tr>\n",
       "    <tr>\n",
       "      <th>14</th>\n",
       "      <td>Dragon</td>\n",
       "      <td>113.5</td>\n",
       "      <td>86.25</td>\n",
       "      <td>100.00</td>\n",
       "      <td>31.25</td>\n",
       "      <td>21.875</td>\n",
       "      <td>146.875</td>\n",
       "      <td>90.0</td>\n",
       "      <td>68.75</td>\n",
       "    </tr>\n",
       "    <tr>\n",
       "      <th>15</th>\n",
       "      <td>Dark</td>\n",
       "      <td>88.0</td>\n",
       "      <td>65.00</td>\n",
       "      <td>90.00</td>\n",
       "      <td>39.00</td>\n",
       "      <td>-7.500</td>\n",
       "      <td>148.500</td>\n",
       "      <td>70.0</td>\n",
       "      <td>51.00</td>\n",
       "    </tr>\n",
       "    <tr>\n",
       "      <th>16</th>\n",
       "      <td>Steel</td>\n",
       "      <td>89.0</td>\n",
       "      <td>77.50</td>\n",
       "      <td>150.00</td>\n",
       "      <td>52.50</td>\n",
       "      <td>18.750</td>\n",
       "      <td>228.750</td>\n",
       "      <td>120.0</td>\n",
       "      <td>97.50</td>\n",
       "    </tr>\n",
       "    <tr>\n",
       "      <th>17</th>\n",
       "      <td>Flying</td>\n",
       "      <td>85.0</td>\n",
       "      <td>60.00</td>\n",
       "      <td>80.00</td>\n",
       "      <td>18.75</td>\n",
       "      <td>33.125</td>\n",
       "      <td>108.125</td>\n",
       "      <td>75.0</td>\n",
       "      <td>61.25</td>\n",
       "    </tr>\n",
       "  </tbody>\n",
       "</table>\n",
       "</div>"
      ],
      "text/plain": [
       "        Type  Attack Median  Lower quartile  Upper quartile    Iqr  \\\n",
       "0      Grass           70.0           55.00           84.50  34.50   \n",
       "1       Fire           84.5           62.25           78.00  27.00   \n",
       "2      Water           72.0           53.00           88.50  34.00   \n",
       "3        Bug           65.0           45.00           90.00  40.00   \n",
       "4     Normal           70.5           55.00           73.75  30.50   \n",
       "5     Poison           74.0           60.00           82.25  29.50   \n",
       "6   Electric           65.0           53.75           80.00  30.25   \n",
       "7     Ground           85.0           72.00          110.00  56.25   \n",
       "8      Fairy           52.0           45.00           75.00  25.00   \n",
       "9   Fighting          100.0           80.00           79.50  25.50   \n",
       "10   Psychic           57.0           45.00           80.00  32.00   \n",
       "11      Rock           95.0           59.75          120.50  49.00   \n",
       "12     Ghost           66.0           53.75          111.00  51.00   \n",
       "13       Ice           67.0           50.00           85.00  36.25   \n",
       "14    Dragon          113.5           86.25          100.00  31.25   \n",
       "15      Dark           88.0           65.00           90.00  39.00   \n",
       "16     Steel           89.0           77.50          150.00  52.50   \n",
       "17    Flying           85.0           60.00           80.00  18.75   \n",
       "\n",
       "    Lower bound  Upper bound  Defense Median  Loewr quartile  \n",
       "0        -1.750      136.250            66.0           50.00  \n",
       "1        10.500      118.500            64.0           51.00  \n",
       "2         3.500      139.500            70.0           54.50  \n",
       "3       -10.000      150.000            60.0           50.00  \n",
       "4        -2.500      119.500            60.0           43.25  \n",
       "5         8.500      126.500            67.0           52.75  \n",
       "6         4.375      125.375            65.0           49.75  \n",
       "7       -30.625      194.375            84.5           53.75  \n",
       "8        12.500      112.500            66.0           50.00  \n",
       "9        15.750      117.750            70.0           54.00  \n",
       "10        0.000      128.000            65.0           48.00  \n",
       "11       -2.000      194.000           100.0           71.50  \n",
       "12      -16.500      187.500            72.5           60.00  \n",
       "13       -5.625      139.375            75.0           48.75  \n",
       "14       21.875      146.875            90.0           68.75  \n",
       "15       -7.500      148.500            70.0           51.00  \n",
       "16       18.750      228.750           120.0           97.50  \n",
       "17       33.125      108.125            75.0           61.25  "
      ]
     },
     "execution_count": 7,
     "metadata": {},
     "output_type": "execute_result"
    }
   ],
   "source": [
    "poke_table = pd.DataFrame({'Type':poke_list,\n",
    "                             'Attack Median':attack_median,\n",
    "                             'Lower quartile': attack_lq,\n",
    "                             'Upper quartile':attack_uq,\n",
    "                             'Iqr':attack_iqr,\n",
    "                             'Lower bound':attack_lb,\n",
    "                             'Upper bound':attack_ub,\n",
    "                             'Defense Median':defense_median,\n",
    "                             'Loewr quartile':defense_lq,\n",
    "                             'Upper quartile':defense_uq,\n",
    "                             'Iqr':defense_iqr,\n",
    "                             'Lower bound':defense_lb,\n",
    "                             'Upper bound':defense_ub\n",
    "                            })\n",
    "poke_table"
   ]
  }
 ],
 "metadata": {
  "kernelspec": {
   "display_name": "Python 3",
   "language": "python",
   "name": "python3"
  },
  "language_info": {
   "codemirror_mode": {
    "name": "ipython",
    "version": 3
   },
   "file_extension": ".py",
   "mimetype": "text/x-python",
   "name": "python",
   "nbconvert_exporter": "python",
   "pygments_lexer": "ipython3",
   "version": "3.8.8"
  }
 },
 "nbformat": 4,
 "nbformat_minor": 4
}
